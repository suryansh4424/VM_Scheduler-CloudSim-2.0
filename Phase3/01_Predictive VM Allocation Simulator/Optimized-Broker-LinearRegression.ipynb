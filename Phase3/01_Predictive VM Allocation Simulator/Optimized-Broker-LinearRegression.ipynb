{
 "cells": [
  {
   "cell_type": "code",
   "execution_count": 2,
   "metadata": {},
   "outputs": [
    {
     "name": "stdout",
     "output_type": "stream",
     "text": [
      "(array([0.12006029, 0.53816309, 0.49782601, 0.54135024, 0.71719222,\n",
      "       0.38645197, 0.48103243, 0.46391637, 0.37764074, 0.42750843]), array([0.75264361, 0.00212187, 0.82923489, 0.1288702 , 0.11322683,\n",
      "       0.01517034, 0.81392894, 0.62587927, 0.43159721, 0.72566734]), array([40,  3, 53, 24, 28,  7, 96,  6, 52, 53]))\n"
     ]
    }
   ],
   "source": [
    "import numpy as np\n",
    "def collect_data():\n",
    "    vm_cpu_utilization = np.random.rand(10)  \n",
    "    vm_memory_utilization = np.random.rand(10) \n",
    "    task_arrivals = np.random.randint(0, 100, size=(10,))  \n",
    "    return vm_cpu_utilization, vm_memory_utilization, task_arrivals\n",
    "vm_cpu_utilization, vm_memory_utilization, task_arrivals = collect_data()\n",
    "print(collect_data())"
   ]
  },
  {
   "cell_type": "code",
   "execution_count": 3,
   "metadata": {},
   "outputs": [],
   "source": [
    "from sklearn.linear_model import LinearRegression\n",
    "def train_regression_model(X, y):\n",
    "    model = LinearRegression()\n",
    "    model.fit(X, y)\n",
    "    return model\n",
    "X_train = np.column_stack((vm_cpu_utilization, vm_memory_utilization, task_arrivals))\n",
    "y_train = np.random.rand(10)\n",
    "\n",
    "regression_model = train_regression_model(X_train, y_train)\n"
   ]
  },
  {
   "cell_type": "code",
   "execution_count": 4,
   "metadata": {},
   "outputs": [],
   "source": [
    "def allocate_resources(vm_cpu_utilization, vm_memory_utilization, task_arrivals, model):\n",
    "    X = np.column_stack((vm_cpu_utilization, vm_memory_utilization, task_arrivals))\n",
    "    predicted_response_time = model.predict(X)\n",
    "    return predicted_response_time\n",
    "predicted_response_time = allocate_resources(vm_cpu_utilization, vm_memory_utilization, task_arrivals, regression_model)"
   ]
  },
  {
   "cell_type": "code",
   "execution_count": 5,
   "metadata": {},
   "outputs": [
    {
     "name": "stdout",
     "output_type": "stream",
     "text": [
      "[0.79966318 0.67674777 0.37071032 0.7476657  0.49861261 0.58577002\n",
      " 0.49004548 0.4515892  0.65641502 0.44399571]\n"
     ]
    }
   ],
   "source": [
    "print(predicted_response_time)"
   ]
  }
 ],
 "metadata": {
  "kernelspec": {
   "display_name": "Python 3",
   "language": "python",
   "name": "python3"
  },
  "language_info": {
   "codemirror_mode": {
    "name": "ipython",
    "version": 3
   },
   "file_extension": ".py",
   "mimetype": "text/x-python",
   "name": "python",
   "nbconvert_exporter": "python",
   "pygments_lexer": "ipython3",
   "version": "3.10.6"
  }
 },
 "nbformat": 4,
 "nbformat_minor": 2
}
