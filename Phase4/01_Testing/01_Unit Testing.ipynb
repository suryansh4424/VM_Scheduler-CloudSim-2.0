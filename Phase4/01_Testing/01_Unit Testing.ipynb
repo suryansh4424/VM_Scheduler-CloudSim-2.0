{
 "cells": [
  {
   "cell_type": "markdown",
   "id": "9fe19524",
   "metadata": {},
   "source": [
    "# Unit Testing"
   ]
  },
  {
   "cell_type": "markdown",
   "id": "91e7585b",
   "metadata": {},
   "source": [
    "<span style=\"color:red\">a. Test CPU Allocation Function - </span>"
   ]
  },
  {
   "cell_type": "code",
   "execution_count": 2,
   "id": "0fc0405a",
   "metadata": {},
   "outputs": [
    {
     "name": "stderr",
     "output_type": "stream",
     "text": [
      ".......\n",
      "----------------------------------------------------------------------\n",
      "Ran 7 tests in 0.006s\n",
      "\n",
      "OK\n"
     ]
    }
   ],
   "source": [
    "import unittest\n",
    "\n",
    "def allocate_cpu(cpu_usage, vm_capacity):\n",
    "    if cpu_usage <= 0 or cpu_usage > vm_capacity:\n",
    "        raise ValueError(\"Invalid CPU usage\")\n",
    "    return cpu_usage\n",
    "\n",
    "def run_cloudlet(cpu_usage, vm_capacity):\n",
    "    if cpu_usage > vm_capacity:\n",
    "        return \"Error: Not enough resources\"\n",
    "    return \"Cloudlet running successfully\"\n",
    "\n",
    "def allocate_vm(vm_capacity, required_capacity):\n",
    "    if required_capacity > vm_capacity:\n",
    "        return \"VM capacity insufficient\"\n",
    "    return \"VM allocated successfully\"\n",
    "\n",
    "\n",
    "class TestCPUAllocation(unittest.TestCase):\n",
    "    \n",
    "    def test_valid_allocation(self):\n",
    "        self.assertEqual(allocate_cpu(50, 100), 50)\n",
    "    \n",
    "    def test_invalid_allocation_high(self):\n",
    "        with self.assertRaises(ValueError):\n",
    "            allocate_cpu(150, 100) \n",
    "    \n",
    "    def test_invalid_allocation_low(self):\n",
    "        with self.assertRaises(ValueError):\n",
    "            allocate_cpu(0, 100)\n",
    "\n",
    "\n",
    "class TestCloudletExecution(unittest.TestCase):\n",
    "    \n",
    "    def test_successful_execution(self):\n",
    "        self.assertEqual(run_cloudlet(50, 100), \"Cloudlet running successfully\")\n",
    "    \n",
    "    def test_failed_execution(self):\n",
    "        self.assertEqual(run_cloudlet(150, 100), \"Error: Not enough resources\")\n",
    "\n",
    "\n",
    "class TestVMAllocation(unittest.TestCase):\n",
    "    \n",
    "    def test_successful_allocation(self):\n",
    "        self.assertEqual(allocate_vm(100, 50), \"VM allocated successfully\")\n",
    "    \n",
    "    def test_failed_allocation(self):\n",
    "        self.assertEqual(allocate_vm(100, 150), \"VM capacity insufficient\")\n",
    "\n",
    "def run_tests():\n",
    "    # Load the test cases\n",
    "    suite = unittest.TestLoader().loadTestsFromTestCase(TestCPUAllocation)\n",
    "    suite.addTests(unittest.TestLoader().loadTestsFromTestCase(TestCloudletExecution))\n",
    "    suite.addTests(unittest.TestLoader().loadTestsFromTestCase(TestVMAllocation))\n",
    "    \n",
    "    # Run the tests\n",
    "    runner = unittest.TextTestRunner()\n",
    "    runner.run(suite)\n",
    "run_tests()\n"
   ]
  },
  {
   "cell_type": "markdown",
   "id": "bdd7d5fa",
   "metadata": {},
   "source": [
    "<span style=\"color:red\">b. Test Cloudlet Execution - </span>"
   ]
  },
  {
   "cell_type": "code",
   "execution_count": 4,
   "id": "46a8564c",
   "metadata": {},
   "outputs": [
    {
     "name": "stderr",
     "output_type": "stream",
     "text": [
      "..\n",
      "----------------------------------------------------------------------\n",
      "Ran 2 tests in 0.002s\n",
      "\n",
      "OK\n"
     ]
    }
   ],
   "source": [
    "import unittest\n",
    "\n",
    "def run_cloudlet(cpu_usage, vm_capacity):\n",
    "    if cpu_usage > vm_capacity:\n",
    "        return \"Error: Not enough resources\"\n",
    "    return \"Cloudlet running successfully\"\n",
    "\n",
    "class TestCloudletExecution(unittest.TestCase):\n",
    "    \n",
    "    def test_successful_execution(self):\n",
    "        self.assertEqual(run_cloudlet(50, 100), \"Cloudlet running successfully\")\n",
    "    \n",
    "    def test_failed_execution(self):\n",
    "        self.assertEqual(run_cloudlet(150, 100), \"Error: Not enough resources\")\n",
    "\n",
    "def run_tests():\n",
    "    suite = unittest.TestLoader().loadTestsFromTestCase(TestCloudletExecution)\n",
    "    runner = unittest.TextTestRunner()\n",
    "    runner.run(suite)\n",
    "\n",
    "run_tests()\n"
   ]
  },
  {
   "cell_type": "markdown",
   "id": "f49a451c",
   "metadata": {},
   "source": [
    "<span style=\"color:red\">c. Test VM Allocation - </span>"
   ]
  },
  {
   "cell_type": "code",
   "execution_count": 9,
   "id": "16e1340f",
   "metadata": {},
   "outputs": [
    {
     "name": "stderr",
     "output_type": "stream",
     "text": [
      "..\n",
      "----------------------------------------------------------------------\n",
      "Ran 2 tests in 0.002s\n",
      "\n",
      "OK\n"
     ]
    },
    {
     "data": {
      "text/plain": [
       "<unittest.runner.TextTestResult run=2 errors=0 failures=0>"
      ]
     },
     "execution_count": 9,
     "metadata": {},
     "output_type": "execute_result"
    }
   ],
   "source": [
    "import unittest\n",
    "\n",
    "# Function for allocating VM\n",
    "def allocate_vm(vm_capacity, required_capacity):\n",
    "    if required_capacity > vm_capacity:\n",
    "        return \"VM capacity insufficient\"\n",
    "    return \"VM allocated successfully\"\n",
    "\n",
    "# Test case class for VM allocation\n",
    "class TestVMAllocation(unittest.TestCase):\n",
    "    \n",
    "    def test_successful_allocation(self):\n",
    "        self.assertEqual(allocate_vm(100, 50), \"VM allocated successfully\")\n",
    "    \n",
    "    def test_failed_allocation(self):\n",
    "        self.assertEqual(allocate_vm(100, 150), \"VM capacity insufficient\")\n",
    "\n",
    "# Manual test runner\n",
    "def run_tests():\n",
    "    # Load tests from the TestVMAllocation class\n",
    "    suite = unittest.TestLoader().loadTestsFromTestCase(TestVMAllocation)\n",
    "    \n",
    "    # Run the tests\n",
    "    result = unittest.TextTestRunner().run(suite)\n",
    "    \n",
    "    return result\n",
    "\n",
    "# Run the tests and capture the result\n",
    "run_tests()\n"
   ]
  }
 ],
 "metadata": {
  "kernelspec": {
   "display_name": "Python 3 (ipykernel)",
   "language": "python",
   "name": "python3"
  },
  "language_info": {
   "codemirror_mode": {
    "name": "ipython",
    "version": 3
   },
   "file_extension": ".py",
   "mimetype": "text/x-python",
   "name": "python",
   "nbconvert_exporter": "python",
   "pygments_lexer": "ipython3",
   "version": "3.11.7"
  }
 },
 "nbformat": 4,
 "nbformat_minor": 5
}
