{
 "cells": [
  {
   "cell_type": "markdown",
   "id": "d118c45e",
   "metadata": {},
   "source": [
    "# Real-World Simulation Testing:"
   ]
  },
  {
   "cell_type": "code",
   "execution_count": 13,
   "id": "07ce4ea4",
   "metadata": {},
   "outputs": [
    {
     "name": "stdout",
     "output_type": "stream",
     "text": [
      "Traditional - Time: 412.00, Energy: 618.00\n",
      "ML-Based - Time: 76.50, Energy: 572.00, Optimization: 37.04%\n"
     ]
    }
   ],
   "source": [
    "# Simulated real-world dataset (CPU usage over time)\n",
    "real_world_data = [45, 50, 80, 30, 70, 55, 90, 35, 60]\n",
    "\n",
    "# Traditional Approach\n",
    "def traditional_simulation(data):\n",
    "    time = 0\n",
    "    energy = 0\n",
    "    for usage in data:\n",
    "        time += usage * 0.8 \n",
    "        energy += usage * 1.2  \n",
    "    return time, energy\n",
    "\n",
    "# ML-Based Approach\n",
    "def ml_simulation(data, predicted_usage):\n",
    "    time = 0\n",
    "    energy = 0\n",
    "    for actual, predicted in zip(data, predicted_usage):\n",
    "        time += abs(predicted - actual) * 0.7 + 5  \n",
    "        energy += predicted * 1.1\n",
    "    return time, energy\n",
    "\n",
    "\n",
    "predicted_data = [50, 55, 75, 35, 65, 60, 85, 40, 55]\n",
    "\n",
    "\n",
    "trad_time, trad_energy = traditional_simulation(real_world_data)\n",
    "ml_time, ml_energy = ml_simulation(real_world_data, predicted_data)\n",
    "\n",
    "optimization = ((trad_time + trad_energy) - (ml_time + ml_energy)) / (trad_time + trad_energy) * 100\n",
    "\n",
    "print(f\"Traditional - Time: {trad_time:.2f}, Energy: {trad_energy:.2f}\")\n",
    "print(f\"ML-Based - Time: {ml_time:.2f}, Energy: {ml_energy:.2f}, Optimization: {optimization:.2f}%\")\n"
   ]
  },
  {
   "cell_type": "code",
   "execution_count": null,
   "id": "2c353e0b",
   "metadata": {},
   "outputs": [],
   "source": []
  }
 ],
 "metadata": {
  "kernelspec": {
   "display_name": "Python 3 (ipykernel)",
   "language": "python",
   "name": "python3"
  },
  "language_info": {
   "codemirror_mode": {
    "name": "ipython",
    "version": 3
   },
   "file_extension": ".py",
   "mimetype": "text/x-python",
   "name": "python",
   "nbconvert_exporter": "python",
   "pygments_lexer": "ipython3",
   "version": "3.11.7"
  }
 },
 "nbformat": 4,
 "nbformat_minor": 5
}
